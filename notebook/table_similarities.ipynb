{
 "cells": [
  {
   "cell_type": "code",
   "execution_count": 159,
   "metadata": {
    "collapsed": true
   },
   "outputs": [],
   "source": [
    "import pandas as pd\n",
    "from rltk.similarity.tf_idf import TF_IDF"
   ]
  },
  {
   "cell_type": "markdown",
   "source": [
    "* Divide sheet into tables (Preserve rows and columns indices )\n",
    "    * Pandas indices start from zero whereas for sheet it starts from 1\n",
    "* Link source annotations to tables in source DF\n",
    "* Link source tables to target tables\n",
    "    * Based on similarity score. E.g. Number of exact same cells between 2 tables\n",
    "* Set target annotation bounds based by the linking\n",
    "    * Consider irregularities in the table\n",
    "* Generate annotations"
   ],
   "metadata": {
    "collapsed": false,
    "pycharm": {
     "name": "#%% md\n"
    }
   }
  },
  {
   "cell_type": "code",
   "execution_count": 160,
   "outputs": [],
   "source": [
    "def get_blocks(series):\n",
    "    last_index = len(series) - 1\n",
    "    blocks = []\n",
    "    block = {}\n",
    "    for index, is_empty in series.iteritems():\n",
    "        if not block and not is_empty:\n",
    "            block['start'] = index\n",
    "\n",
    "        if block and not is_empty:\n",
    "            block['end'] = index\n",
    "\n",
    "        if block and (is_empty or index == last_index):\n",
    "            blocks.append(block)\n",
    "            block = {}\n",
    "    return blocks"
   ],
   "metadata": {
    "collapsed": false,
    "pycharm": {
     "name": "#%%\n"
    }
   }
  },
  {
   "cell_type": "code",
   "execution_count": 161,
   "outputs": [],
   "source": [
    "def extract_tables(dataframe, prefix):\n",
    "    table_count = 0\n",
    "    extracted_tables = {}\n",
    "\n",
    "    rows = dataframe.isnull().all(1)\n",
    "    row_blocks = get_blocks(rows)\n",
    "    for row_block in row_blocks:\n",
    "        row_df = dataframe[row_block['start']:row_block['end'] + 1]\n",
    "        columns = row_df.isnull().all()\n",
    "        column_blocks = get_blocks(columns)\n",
    "        for column_block in column_blocks:\n",
    "            extracted_tables[f'{prefix}_{str(table_count)}'] = row_df.iloc[:, column_block['start']:column_block['end'] + 1]\n",
    "            table_count += 1\n",
    "\n",
    "    return extracted_tables"
   ],
   "metadata": {
    "collapsed": false,
    "pycharm": {
     "name": "#%%\n"
    }
   }
  },
  {
   "cell_type": "code",
   "execution_count": 162,
   "outputs": [],
   "source": [
    "source_df = pd.read_excel('../resources/data.xlsx', sheet_name='shifted_india_wheat', engine='openpyxl', index_col=None, header=None)\n",
    "target_df = pd.read_excel('../resources/data.xlsx', sheet_name='usa_wheat', engine='openpyxl', index_col=None, header=None)\n",
    "\n",
    "source_tables = extract_tables(source_df, 'source')\n",
    "target_tables = extract_tables(target_df, 'target')\n",
    "\n",
    "tables = {**source_tables, **target_tables}\n",
    "\n",
    "tfidf = TF_IDF()\n",
    "for table_name, table in tables.items():\n",
    "    data = []\n",
    "    for rowIndex, row in table.iterrows():  #iterate over rows\n",
    "        for columnIndex, value in row.items():\n",
    "            if isinstance(value, str):\n",
    "                data.append(value)\n",
    "\n",
    "    tfidf.add_document(table_name, data)\n",
    "\n",
    "tfidf.pre_compute()"
   ],
   "metadata": {
    "collapsed": false,
    "pycharm": {
     "name": "#%%\n"
    }
   }
  },
  {
   "cell_type": "code",
   "execution_count": 163,
   "outputs": [
    {
     "name": "stdout",
     "output_type": "stream",
     "text": [
      "Match: source_0 & target_0: 0.6363636363636362\n",
      "Match: source_1 & target_1: 1.0\n",
      "Match: source_2 & target_2: 0.19777158774373269\n",
      "Match: source_3 & target_3: 1.0\n",
      "Match: source_4 & target_4: 1.0\n",
      "Match: source_5 & target_5: 1.0\n",
      "Match: source_6 & target_6: 1.0000000000000002\n"
     ]
    }
   ],
   "source": [
    "for s in range(0, len(source_tables)):\n",
    "    source = f'source_{s}'\n",
    "\n",
    "    best_similarity = 0\n",
    "    best_match = ''\n",
    "    for t in range(0, len(target_tables)):\n",
    "        target = f'target_{t}'\n",
    "        similarity = tfidf.similarity(source, target)\n",
    "        # print(f'{source} & {target}: {similarity}')\n",
    "        if similarity > best_similarity:\n",
    "            best_similarity = similarity\n",
    "            best_match = target\n",
    "\n",
    "    print(f'Match: {source} & {best_match}: {best_similarity}')\n",
    "    #\n",
    "    # print('********************************************************')\n",
    "    # print('********************************************************')\n",
    "    # print(f'Match: {source} & {best_match}: {best_similarity}')\n",
    "    # print('********************************************************')\n",
    "    # print(tables[source])\n",
    "    # print('********************************************************')\n",
    "    # print(tables[best_match])"
   ],
   "metadata": {
    "collapsed": false,
    "pycharm": {
     "name": "#%%\n"
    }
   }
  }
 ],
 "metadata": {
  "kernelspec": {
   "display_name": "Python 3",
   "language": "python",
   "name": "python3"
  },
  "language_info": {
   "codemirror_mode": {
    "name": "ipython",
    "version": 2
   },
   "file_extension": ".py",
   "mimetype": "text/x-python",
   "name": "python",
   "nbconvert_exporter": "python",
   "pygments_lexer": "ipython2",
   "version": "2.7.6"
  }
 },
 "nbformat": 4,
 "nbformat_minor": 0
}